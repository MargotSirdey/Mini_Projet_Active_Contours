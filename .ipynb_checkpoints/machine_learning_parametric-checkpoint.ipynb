{
 "cells": [
  {
   "cell_type": "markdown",
   "metadata": {
    "colab_type": "text",
    "id": "yI7wN8JQ22zg"
   },
   "source": [
    "# Active Contours"
   ]
  },
  {
   "cell_type": "markdown",
   "metadata": {
    "colab_type": "text",
    "id": "y7hhgrLS3EBw"
   },
   "source": [
    "## Active Contours using Parametric Curves"
   ]
  },
  {
   "cell_type": "code",
   "execution_count": 4,
   "metadata": {
    "colab": {
     "base_uri": "https://localhost:8080/",
     "height": 376
    },
    "colab_type": "code",
    "id": "pjLH2x_l32eN",
    "outputId": "0b0cae3d-da77-4a7e-9fb0-a463e41da864"
   },
   "outputs": [],
   "source": [
    "from __future__ import division\n",
    "\n",
    "#os.chdir(os.getcwd+\"/home/margot/Documents/Machine_Learning/Active_Contours\")\n",
    "from nt_toolbox.general import *\n",
    "from nt_toolbox.signal import *\n",
    "from numpy import *\n",
    "import matplotlib.pyplot as plt\n",
    "from cmath import *\n",
    "#from home.margot.Documents.Machine_Learning.Active_Contours.nt_toolbox.nt_toolbox.general.py import *\n",
    "#from nt_toolbox.signal import *\n",
    "#pylab inline\n",
    "#matplotlib inline\n",
    "#load_ext autoreload\n",
    "#autoreload 2"
   ]
  },
  {
   "cell_type": "markdown",
   "metadata": {
    "colab_type": "text",
    "id": "Lexfp80H3-XA"
   },
   "source": [
    "#### Polygone initial\n",
    "\n",
    "L'idée est d'associer les contours à des courbes paramétriques. Chaque courbe est discrétisée en p segments et est représentée par un vecteur complexe."
   ]
  },
  {
   "cell_type": "code",
   "execution_count": 5,
   "metadata": {
    "colab": {
     "base_uri": "https://localhost:8080/",
     "height": 187
    },
    "colab_type": "code",
    "id": "w_KKMvLv39WN",
    "outputId": "2cca44b0-fc65-4f64-8f28-d0259bead8dd"
   },
   "outputs": [],
   "source": [
    "gamma0 = np.array([.78, .14, .42, .18, .32, .16, .75, .83, .57, .68, .46, .40, .72, .79, .91, .90]) + 1j*np.array([.87, .82, .75, .63, .34, .17, .08, .46, .50, .25, .27, .57, .73, .57, .75, .79])"
   ]
  },
  {
   "cell_type": "markdown",
   "metadata": {
    "colab_type": "text",
    "id": "4710xraU4HBW"
   },
   "source": [
    "#### Visualisation de la courbe initiale"
   ]
  },
  {
   "cell_type": "code",
   "execution_count": 6,
   "metadata": {
    "colab": {
     "base_uri": "https://localhost:8080/",
     "height": 202
    },
    "colab_type": "code",
    "id": "KmrJ7sQl4GXV",
    "outputId": "9859e336-e092-4631-cb46-8f47fb543942"
   },
   "outputs": [
    {
     "data": {
      "image/png": "[encoded data removed]",
      "text/plain": [
       "<Figure size 432x288 with 1 Axes>"
      ]
     },
     "metadata": {
      "needs_background": "light"
     },
     "output_type": "display_data"
    }
   ],
   "source": [
    "periodize = lambda gamma: concatenate((gamma, [gamma[0]]))\n",
    "def cplot(gamma,s='b',lw=1): \n",
    "    plt.plot(real(periodize(gamma)), imag(periodize(gamma)), s, linewidth=lw)\n",
    "    plt.axis('equal')\n",
    "    plt.axis('off')\n",
    "    \n",
    "cplot(gamma0,'b.-');"
   ]
  },
  {
   "cell_type": "markdown",
   "metadata": {},
   "source": [
    "Nombre de points de la courbe discrète (= nombre de segments)"
   ]
  },
  {
   "cell_type": "code",
   "execution_count": 7,
   "metadata": {},
   "outputs": [],
   "source": [
    "p = 256"
   ]
  },
  {
   "cell_type": "markdown",
   "metadata": {},
   "source": [
    "En fonction de la longueur d'un arc (ie: un segment), nous allons échantillonner différemment la courbe. Les lignes de code ci dessous permettent de définir des fonctions utilisées ensuite pour obtenir une courbe \"lisse\".\n"
   ]
  },
  {
   "cell_type": "code",
   "execution_count": 8,
   "metadata": {},
   "outputs": [],
   "source": [
    "# interpc: fonction prenant trois arguments et donnant un complexe. La fonction interp de python interpole les vecteurs de\n",
    "# données xf et real(yf) (ou imag(yf)) et évalue les valeurs obtenues en x.\n",
    "interpc = lambda x,xf,yf: interp(x,xf,real(yf)) + 1j * interp(x,xf,imag(yf))\n",
    "#curvabs: fonction prenant en entrée gamma (vecteur), puis retourne un vecteur commençant par 0 et ... PAS COMPRIS\n",
    "curvabs = lambda gamma: concatenate( ([0], cumsum( 1e-5 + abs(gamma[:-1:]-gamma[1::]) ) ) )\n",
    "\n",
    "#arange(0,p) = vecteur de 0 à p-1 --> est bien composé de p points.\n",
    "#resample1 calcule l'interpolation entre un vecteur (trié??) pris en entrée et normalisé (d/d[-1]) et gamma\n",
    "#en les points d'un vecteur d'entiers (pas de 1) trié et normalisé\n",
    "resample1 = lambda gamma,d: interpc(arange(0,p)/float(p),  d/d[-1],gamma)\n",
    "#periodize: discrétise sous forme de périodes les vecteurs?\n",
    "resample = lambda gamma: resample1( periodize(gamma), curvabs(periodize(gamma)) )"
   ]
  },
  {
   "cell_type": "markdown",
   "metadata": {},
   "source": [
    "#### Courbe initiale gamma 1"
   ]
  },
  {
   "cell_type": "code",
   "execution_count": 9,
   "metadata": {},
   "outputs": [],
   "source": [
    "gamma1 = resample(gamma0)"
   ]
  },
  {
   "cell_type": "markdown",
   "metadata": {},
   "source": [
    "#### Visualisation de la courbe initiale gamma 1"
   ]
  },
  {
   "cell_type": "code",
   "execution_count": 10,
   "metadata": {},
   "outputs": [
    {
     "data": {
      "image/png": "[encoded data removed]",
      "text/plain": [
       "<Figure size 432x288 with 1 Axes>"
      ]
     },
     "metadata": {
      "needs_background": "light"
     },
     "output_type": "display_data"
    }
   ],
   "source": [
    "cplot(gamma1, 'k')"
   ]
  },
  {
   "cell_type": "markdown",
   "metadata": {},
   "source": [
    "#### Différence finies\n",
    "Décentrage en amont (forward differences: FwdDiff) et en aval (backward differences: BwdDiff)."
   ]
  },
  {
   "cell_type": "code",
   "execution_count": 11,
   "metadata": {},
   "outputs": [],
   "source": [
    "shiftR = lambda c: concatenate( ([c[-1]],c[:-1:]) )\n",
    "shiftL = lambda c: concatenate( (c[1::],[c[0]]) )\n",
    "BwdDiff = lambda c: c - shiftR(c)\n",
    "FwdDiff = lambda c: shiftL(c) - c"
   ]
  },
  {
   "cell_type": "markdown",
   "metadata": {},
   "source": [
    "#### Calcul de la tangente et de la normale à une courbe"
   ]
  },
  {
   "cell_type": "code",
   "execution_count": 12,
   "metadata": {},
   "outputs": [],
   "source": [
    "normalize = lambda v: v/maximum(abs(v),1e-10)\n",
    "tangent = lambda gamma: normalize( FwdDiff(gamma) )\n",
    "normal = lambda gamma: -1j*tangent(gamma)"
   ]
  },
  {
   "cell_type": "markdown",
   "metadata": {},
   "source": [
    "#### Déplacement de la courbe dans la direction de sa normale"
   ]
  },
  {
   "cell_type": "code",
   "execution_count": 13,
   "metadata": {},
   "outputs": [],
   "source": [
    "delta = .03\n",
    "gamma2 = gamma1 + delta * normal(gamma1) #dans la direction de la normale\n",
    "gamma3 = gamma1 - delta * normal(gamma1) #dans la direction opposée à la normale"
   ]
  },
  {
   "cell_type": "markdown",
   "metadata": {},
   "source": [
    "#### Visualisation"
   ]
  },
  {
   "cell_type": "code",
   "execution_count": 14,
   "metadata": {},
   "outputs": [
    {
     "data": {
      "text/plain": [
       "(0.09818192340611909,\n",
       " 0.979037189504653,\n",
       " 0.011000256259768859,\n",
       " 0.942237845572892)"
      ]
     },
     "execution_count": 14,
     "metadata": {},
     "output_type": "execute_result"
    },
    {
     "data": {
      "image/png": "[encoded data removed]",
      "text/plain": [
       "<Figure size 432x288 with 1 Axes>"
      ]
     },
     "metadata": {
      "needs_background": "light"
     },
     "output_type": "display_data"
    }
   ],
   "source": [
    "cplot(gamma1, 'k') #noir: courbe initiale lissée (après interpolation)\n",
    "cplot(gamma2, 'r--') #rouge: direction de la normale --> courbe plus à l'extérieur\n",
    "cplot(gamma3, 'b--') #bleu: direction opposée à la normale --> courbe à l'intérieur de la courbe initiale\n",
    "plt.axis('tight') \n",
    "plt.axis('off')"
   ]
  },
  {
   "cell_type": "markdown",
   "metadata": {},
   "source": [
    "### Evaluation by mean curvature"
   ]
  },
  {
   "cell_type": "markdown",
   "metadata": {},
   "source": [
    "On appelle évolution d'une courbe une série de courbes $\\gamma_s$ indexées par un paramètre d'évolution $s$.\n",
    "Afin d'évaluer la courbe intiale, dans notre cas: $\\gamma_0$, il suffit de minimiser son énergie $E(\\gamma)$ par une méthode de descente de gradient.\n",
    "\n",
    "La manière la plus simple d'obtenir l'évolution d'une courbe est la méthode de \"mean curvature\", que l'on peut traduire méthode de \"courbure moyenne\". Cela correspond à trouver la minimisation de la longueur de la courbe:\n",
    "$$E(\\gamma) = \\int_0^1 ||\\gamma ' (t)|| dt $$\n",
    "\n"
   ]
  },
  {
   "cell_type": "code",
   "execution_count": 15,
   "metadata": {},
   "outputs": [],
   "source": [
    "normalC = lambda gamma: BwdDiff(tangent(gamma)) / abs( FwdDiff(gamma) )"
   ]
  },
  {
   "cell_type": "markdown",
   "metadata": {},
   "source": [
    "Intervalle de temps avant une évolution, nombre maximal d'itérations, initialisation de de la courbe $\\gamma_0$"
   ]
  },
  {
   "cell_type": "code",
   "execution_count": 16,
   "metadata": {},
   "outputs": [],
   "source": [
    "dt = 0.001 / 100"
   ]
  },
  {
   "cell_type": "code",
   "execution_count": 17,
   "metadata": {},
   "outputs": [],
   "source": [
    "Tmax = 3.0 / 100\n",
    "niter = round(Tmax/dt) #3000"
   ]
  },
  {
   "cell_type": "code",
   "execution_count": 18,
   "metadata": {},
   "outputs": [],
   "source": [
    "gamma = gamma1"
   ]
  },
  {
   "cell_type": "markdown",
   "metadata": {},
   "source": [
    "Evolution de la courbe $\\gamma$"
   ]
  },
  {
   "cell_type": "code",
   "execution_count": 19,
   "metadata": {},
   "outputs": [],
   "source": [
    "gamma = gamma + dt * normalC(gamma)"
   ]
  },
  {
   "cell_type": "markdown",
   "metadata": {},
   "source": [
    "Un échantillonnage de la courbe est appliqué afin paramétrer la vitesse d'évolution (la stabiliser)."
   ]
  },
  {
   "cell_type": "code",
   "execution_count": 20,
   "metadata": {},
   "outputs": [],
   "source": [
    "gamma = resample(gamma)"
   ]
  },
  {
   "cell_type": "markdown",
   "metadata": {},
   "source": [
    "#### Exercice 1:  Perform the curve evolution. You need to resample it a few times."
   ]
  },
  {
   "cell_type": "code",
   "execution_count": 21,
   "metadata": {},
   "outputs": [
    {
     "data": {
      "image/png": "[encoded data removed]",
      "text/plain": [
       "<Figure size 432x288 with 1 Axes>"
      ]
     },
     "metadata": {
      "needs_background": "light"
     },
     "output_type": "display_data"
    }
   ],
   "source": [
    "aff = np.around(linspace(1,niter,10)) #liste utilisée pour l'affichage. On veut avoir 10 courbes, d'où on initialise\n",
    "#un vecteur de 10 valeurs espacées équitablement entre 1 et niter=3000.\n",
    "#print(displist)\n",
    "#cplot(gamma, 'k')\n",
    "k = 0 #initialisation de la variable parcourant aff\n",
    "\n",
    "for i in range (1,niter+1): #1 à 3000\n",
    "    gamma = resample(gamma + dt*normalC(gamma)) # échantillonage à chaque itération\n",
    "    if i==aff[k] :\n",
    "        if (i==1 or i==niter) :  #courbe la plus au centre ou plus à l'extérieur, ie: 1ère valeur de aff ou dernière\n",
    "            cplot(gamma, 'b--') #alors on dessine en pointillés noirs\n",
    "        else:\n",
    "            cplot(gamma, 'r')\n",
    "             #sinon on dessine en trait plein rouge          \n",
    "        \n",
    "        k = k+1"
   ]
  },
  {
   "cell_type": "markdown",
   "metadata": {
    "colab_type": "text",
    "id": "lP872WWD3FDy"
   },
   "source": [
    "### Geodesic Active Contours\n",
    "\n",
    "Le principe est le même que précédemment sauf que nous allons utiliser la longueur pondérée de la curvature. C'est pourquoi nous pouvons écrire la nouvelle énergie à minimiser:\n",
    "$$E(\\gamma) = \\int_0^1 W(y(t))||\\gamma ' (t)|| dt $$\n",
    "\n",
    "$W > 0$ est une métrique géodésique, c'est à dire que ce sont les poids correspondant aux chemins les plus courts, si ils existent, entre deux points.\n",
    "Là où l'image doit être segmentée, $W(x)$ sera petit."
   ]
  },
  {
   "cell_type": "code",
   "execution_count": 22,
   "metadata": {},
   "outputs": [],
   "source": [
    "n = 200 #taile de l'image"
   ]
  },
  {
   "cell_type": "markdown",
   "metadata": {},
   "source": [
    "On créé un vecteur de poids et on les visualise."
   ]
  },
  {
   "cell_type": "code",
   "execution_count": 31,
   "metadata": {},
   "outputs": [
    {
     "name": "stdout",
     "output_type": "stream",
     "text": [
      "120.0\n"
     ]
    },
    {
     "data": {
      "image/png": "[encoded data removed]",
      "text/plain": [
       "<Figure size 432x288 with 1 Axes>"
      ]
     },
     "metadata": {
      "needs_background": "light"
     },
     "output_type": "display_data"
    }
   ],
   "source": [
    "nbumps = 40\n",
    "theta = random.rand(nbumps,1)*2*pi\n",
    "r = .6*n/2\n",
    "a = np.array([.6*n,.6*n])\n",
    "\n",
    "A0 = int(a[0]) + r*np.cos(theta)\n",
    "A1 =int(a[1]) + r*np.sin(theta) \n",
    "x = around(A0)\n",
    "y = around(A1)\n",
    "W = zeros([n,n])\n",
    "for i in arange(0,nbumps):\n",
    "    W[int(x[i]),int(y[i])] = 1\n",
    "    \n",
    "W = gaussian_blur(W,6.0)\n",
    "W = rescale( -minimum(W,.05), .3,1)\n",
    "\n",
    "#Visualisation\n",
    "imageplot(W)"
   ]
  },
  {
   "cell_type": "markdown",
   "metadata": {},
   "source": [
    "On cherche désormais à visualiser la norme du gradient des poids: $||\\nabla W||$.\n",
    "\n",
    "La norme du gradient est très utilisée afin de déterminer des contours dans des images. En effet, le contour est situé au niveau des maximas locaux repérés dans la direction du gradient. A REOVIR SI ON MET --> je pense pas enfait"
   ]
  },
  {
   "cell_type": "code",
   "execution_count": null,
   "metadata": {},
   "outputs": [],
   "source": [
    "G = grad(W) #calcul du gradient\n",
    "#print(G[:,:,0])\n",
    "#print(G[:,:,1])\n",
    "G = G[:,:,0] + 1j*G[:,:,1] #Laura ici tu vas pouvoir nous aider ;)    Je sais plus ce que ça fait l'ajout du dernier indice"
   ]
  },
  {
   "cell_type": "code",
   "execution_count": null,
   "metadata": {},
   "outputs": [],
   "source": [
    "imageplot(abs(G))"
   ]
  },
  {
   "cell_type": "markdown",
   "metadata": {},
   "source": [
    "L'image ci-dessus paraît complémentaire à l'image précédemment visualisée. Les parties avec plus ou moins d'intensité coïncident dans les deux images."
   ]
  },
  {
   "cell_type": "markdown",
   "metadata": {},
   "source": [
    "Définitions de fonctions pour évaluer le gradient et le potentiel le long d'une coure.b"
   ]
  },
  {
   "cell_type": "code",
   "execution_count": null,
   "metadata": {},
   "outputs": [],
   "source": [
    "EvalG = lambda gamma: bilinear_interpolate(G, imag(gamma), real(gamma))\n",
    "EvalW = lambda gamma: bilinear_interpolate(W, imag(gamma), real(gamma))"
   ]
  },
  {
   "cell_type": "code",
   "execution_count": null,
   "metadata": {},
   "outputs": [],
   "source": [
    "r = .98*n/2 #rayon\n",
    "p = 128 #nombre de points sur la courbe\n",
    "theta = transpose( linspace(0, 2*pi, p+1) )#transposée d'un vecteur de longueur p+1 allant de 0 à 2pi (intervalles égaux)\n",
    "theta = theta[0:-1] #sans la derniere valeur, car cos(0)=cos(2pi) et idem pour sin ??\n",
    "gamma0 = n/2 * (1 + 1j) +  r*(cos(theta) + 1j*sin(theta)) #courbe circulaire"
   ]
  },
  {
   "cell_type": "code",
   "execution_count": null,
   "metadata": {},
   "outputs": [],
   "source": [
    "gamma = gamma0 #initialisation de la série de courbe avec gamma0 (courbe circulaire)"
   ]
  },
  {
   "cell_type": "code",
   "execution_count": null,
   "metadata": {},
   "outputs": [],
   "source": [
    "dt = 1 #intervalle de temps\n",
    "Tmax = 5000 #max temps\n",
    "niter = round(Tmax/ dt) #nombre d'itérations"
   ]
  },
  {
   "cell_type": "code",
   "execution_count": null,
   "metadata": {},
   "outputs": [],
   "source": [
    "lw = 2\n",
    "clf\n",
    "imageplot(transpose(W)) #visualisation des poids\n",
    "cplot(gamma, 'r', lw) #visualisation de la courbe"
   ]
  },
  {
   "cell_type": "code",
   "execution_count": null,
   "metadata": {},
   "outputs": [],
   "source": [
    "dotp = lambda c1,c2: real(c1)*real(c2) + imag(c1)*imag(c2) #produit scalaire?"
   ]
  },
  {
   "cell_type": "markdown",
   "metadata": {},
   "source": [
    "Evaluation de la courbe."
   ]
  },
  {
   "cell_type": "code",
   "execution_count": null,
   "metadata": {},
   "outputs": [],
   "source": [
    "N = normal(gamma)\n",
    "g = - EvalW(gamma) * normalC(gamma) + dotp(EvalG(gamma), N) * N\n",
    "gamma = gamma - dt*g"
   ]
  },
  {
   "cell_type": "code",
   "execution_count": null,
   "metadata": {},
   "outputs": [],
   "source": [
    "gamma = resample(gamma) #échantillonage"
   ]
  },
  {
   "cell_type": "markdown",
   "metadata": {},
   "source": [
    "#### Exercise 2: Perform the curve evolution."
   ]
  },
  {
   "cell_type": "code",
   "execution_count": null,
   "metadata": {},
   "outputs": [],
   "source": [
    "aff = around(linspace(1,niter,10)) #affichage de 10 courbes\n",
    "k = 0\n",
    "clf\n",
    "imageplot(transpose(W))\n",
    "for i in range(1,niter+1):\n",
    "    N = normal(gamma)\n",
    "    g = -EvalW(gamma)*normalC(gamma) + dotp(EvalG(gamma),N)*N\n",
    "    gamma = resample(gamma - dt*g)  #échantillonage à chaque boucle  \n",
    "    if i==aff[k]:\n",
    "        if (i==1 or i==niter):\n",
    "            cplot(gamma, 'b--') #pour courbes extrémités\n",
    "        else:\n",
    "            cplot(gamma, 'r') #pour courbes internes\n",
    "\n",
    "        k = k+1\n"
   ]
  },
  {
   "cell_type": "markdown",
   "metadata": {},
   "source": [
    "### Medical Image Segmentation\n",
    "\n",
    "Il est aussi possible d'utiliser une métrique basée sur une étude de gradient pour détecter des contours. Appliquons cette méthode sur une image médicale par exemple."
   ]
  },
  {
   "cell_type": "code",
   "execution_count": null,
   "metadata": {},
   "outputs": [],
   "source": [
    "n = 256\n",
    "name = 'nt_toolbox/nt_toolbox/data/cortex.bmp' # A Revoir pour faire avec chemin relatif\n",
    "f = load_image('cortex.bmp', n) #download image\n",
    "imageplot(f) #affichage"
   ]
  },
  {
   "cell_type": "code",
   "execution_count": null,
   "metadata": {},
   "outputs": [],
   "source": [
    "G = grad(f) #calcul du gradient de l'image\n",
    "d0 = sqrt(sum(G**2, 2)) #calcul de la norme 2 du gradient\n",
    "imageplot(d0) #affichage"
   ]
  },
  {
   "cell_type": "markdown",
   "metadata": {},
   "source": [
    "Ce détecteur de contour est une fonction décroissante de la magnitude (ie:norme calculée) du gradient. Nous allons tout d'abord flouter l'image par un facteur $a$. Le floutage peut être vu comme la multiplication de la matrice composée de pixels (l'image) et de la matrice de floutage (la matrice gaussienne et divisée par le coefficient $a$).\n",
    "\n",
    "Par exemple voici une matrice de floutage de type gaussien (dimension 3):\n",
    "$$ \\frac{1}{a}\n",
    "\\begin{bmatrix}\n",
    "1 & 2 & 1 \\\\\n",
    "2 & 4 & 2 \\\\\n",
    "1 & 2 & 1\n",
    "\\end{bmatrix}$$"
   ]
  },
  {
   "cell_type": "code",
   "execution_count": null,
   "metadata": {},
   "outputs": [],
   "source": [
    "a = 2 #coefficient de floutage\n",
    "d = gaussian_blur(d0, a) #d0 image initiale --> divisée par a pour le floutage\n",
    "imageplot(d) #affichage"
   ]
  },
  {
   "cell_type": "code",
   "execution_count": null,
   "metadata": {},
   "outputs": [],
   "source": [
    "d = minimum(d, .4)\n",
    "W = rescale(-d, .8, 1) #redéfinition des poids W"
   ]
  },
  {
   "cell_type": "code",
   "execution_count": null,
   "metadata": {},
   "outputs": [],
   "source": [
    "imageplot(W)"
   ]
  },
  {
   "cell_type": "markdown",
   "metadata": {},
   "source": [
    "Nombre de points"
   ]
  },
  {
   "cell_type": "code",
   "execution_count": null,
   "metadata": {},
   "outputs": [],
   "source": [
    "p = 128 #nombre de points sur la courbe"
   ]
  },
  {
   "cell_type": "markdown",
   "metadata": {},
   "source": [
    "#### Exercise 3: Create an initial circle $\\gamma_0$ of $p$ points. When plotting the image, you need to transpose it to have axis coherent with the cplot."
   ]
  },
  {
   "cell_type": "code",
   "execution_count": null,
   "metadata": {},
   "outputs": [],
   "source": [
    "#redéfinition du rayon et de theta (car n a changé), idem pour gamma0\n",
    "r = .98*n/2;\n",
    "theta = transpose(linspace(0,2*pi,p+1))\n",
    "theta = theta[0:-1] #sans derniere valeur\n",
    "gamma0 = n/2*(1 + 1j) +  r*(cos(theta) + 1j*sin(theta))\n",
    "\n",
    "#affectation\n",
    "gamma = gamma0;\n",
    "#affichage\n",
    "clf\n",
    "imageplot(transpose(f)) #transposée de l'image selon la consigne\n",
    "cplot(gamma,'r')"
   ]
  },
  {
   "cell_type": "markdown",
   "metadata": {},
   "source": [
    "Passons à la visualisation de l'évolution de la courbe."
   ]
  },
  {
   "cell_type": "code",
   "execution_count": null,
   "metadata": {},
   "outputs": [],
   "source": [
    "dt = 2 #intervalle de temps"
   ]
  },
  {
   "cell_type": "code",
   "execution_count": null,
   "metadata": {},
   "outputs": [],
   "source": [
    "Tmax = 9000 #temps max\n",
    "niter = round(Tmax/ dt) #nombre max d'itérations"
   ]
  },
  {
   "cell_type": "markdown",
   "metadata": {},
   "source": [
    "#### Exercise 4: Perform the curve evolution.\n",
    "\n",
    "Pas hyper précis où sont les courbes bleues donc peut être à revoir..."
   ]
  },
  {
   "cell_type": "code",
   "execution_count": null,
   "metadata": {},
   "outputs": [],
   "source": [
    "#on était restés à G=grad(f)\n",
    "G = G[:,:,0] + 1j*G[:,:,1] #IDEM: Laura ici tu vas pouvoir nous aider ;) Je sais plus ce que ça fait l'ajout du dernier indice\n",
    "\n",
    "aff = around(linspace(1,niter,10))\n",
    "k = 0\n",
    "clf\n",
    "imageplot(transpose(f))\n",
    "for i in range(1,niter+1):\n",
    "    N = normal(gamma)\n",
    "    g = -EvalW(gamma)*normalC(gamma) + dotp(EvalG(gamma), N)*N #réutilisation de EvalW et EvalG (définis avant)\n",
    "    gamma = resample(gamma - dt*g) #échantillonage à chaque itération \n",
    "    if i==aff[k]:\n",
    "        if (i==1 or i==niter):\n",
    "            cplot(gamma, 'b--')\n",
    "        else:\n",
    "            cplot(gamma, 'r')\n",
    "            \n",
    "        k = k+1"
   ]
  },
  {
   "cell_type": "markdown",
   "metadata": {},
   "source": [
    "### Evolution of a Non-closed Curve\n",
    "\n",
    "Pour finir nous allons étudier les courbes non fermées. Afin d'afficher leur évolution il faut introduire des conditions aux frontières. Nommons par exemples ces deux contraintes:\n",
    "$\\gamma(0) = x_0$ et $\\gamma(1) = x_1$."
   ]
  },
  {
   "cell_type": "code",
   "execution_count": null,
   "metadata": {},
   "outputs": [],
   "source": [
    "n = 256\n",
    "f = load_image(name, n) #ALORS ICI POURQUOI AVEC NAME ça FONCTIONNE?? AUCUNE idée...\n",
    "f = f[45:105, 60:120] #on étudie seulement une partie de l'image\n",
    "n = f.shape[0] #n prend la valeur du nombre de lignes de la matrice de pixels (égale ici au nombre de colonnes = 60)\n",
    "\n",
    "#affichage du carré de l'image étudié\n",
    "imageplot(f)"
   ]
  },
  {
   "cell_type": "markdown",
   "metadata": {},
   "source": [
    "#### Exercise 5: Compute an edge attracting criterion W(x)>0, that is small in area of strong gradient."
   ]
  },
  {
   "cell_type": "code",
   "execution_count": null,
   "metadata": {},
   "outputs": [],
   "source": [
    "#gradient de f\n",
    "G = grad(f)\n",
    "#G0 : norme 2 du gradient\n",
    "G0 = sqrt(sum(G**2, 2))\n",
    "G = gaussian_blur(G0,a) #afin d'accentuer les valeurs dans l'image (--> filtre gaussien)\n",
    "G = minimum(G,.2) #0.2 si \"strong gradient\" ie: dans les régions où G est elevé alors G prendra la valeur de 0.2 (petit) ??\n",
    "W = rescale(-G,.4,1)\n",
    "clf\n",
    "imageplot(W)"
   ]
  },
  {
   "cell_type": "markdown",
   "metadata": {},
   "source": [
    "Définition des contraintes: $x_0$ et $x_1$."
   ]
  },
  {
   "cell_type": "code",
   "execution_count": null,
   "metadata": {},
   "outputs": [],
   "source": [
    "x0 = 4 + 55j\n",
    "x1 = 53 + 4j"
   ]
  },
  {
   "cell_type": "code",
   "execution_count": null,
   "metadata": {},
   "outputs": [],
   "source": [
    "p = 128 #nombre de points de la courbe\n",
    "t = transpose(linspace(0, 1, p))\n",
    "gamma0 = t*x1 + (1-t)*x0 #premiere courbe"
   ]
  },
  {
   "cell_type": "code",
   "execution_count": null,
   "metadata": {},
   "outputs": [],
   "source": [
    "gamma = gamma0 #initialisation de l'évolution avec la courbe initiale"
   ]
  },
  {
   "cell_type": "code",
   "execution_count": null,
   "metadata": {},
   "outputs": [],
   "source": [
    "clf\n",
    "imageplot(transpose(W))\n",
    "cplot(gamma,'r', 2)\n",
    "plot(real(gamma[0]), imag(gamma[0]), 'b.', markersize=20)\n",
    "plot(real(gamma[-1]), imag(gamma[-1]), 'b.', markersize=20);"
   ]
  },
  {
   "cell_type": "markdown",
   "metadata": {},
   "source": [
    "Définitions de fonctions pour les courbes non périodiques. A REVOIR --> A COMPRENDRE"
   ]
  },
  {
   "cell_type": "code",
   "execution_count": null,
   "metadata": {},
   "outputs": [],
   "source": [
    "curvabs = lambda gamma: concatenate( ([0], cumsum( 1e-5 + abs(gamma[:-1:]-gamma[1::]) ) ) )\n",
    "resample1 = lambda gamma,d: interpc(arange(0,p)/float(p-1),  d/d[-1],gamma)\n",
    "resample = lambda gamma: resample1( gamma, curvabs(gamma) )"
   ]
  },
  {
   "cell_type": "code",
   "execution_count": null,
   "metadata": {},
   "outputs": [],
   "source": [
    "dt = 1/10 #intervalle de temps\n",
    "Tmax = 2000*4/ 7\n",
    "niter = round(Tmax/ dt) #nombre maximal d'itérations"
   ]
  },
  {
   "cell_type": "markdown",
   "metadata": {},
   "source": [
    "#### Exercise 6: Perform the curve evolution. Be careful to impose the boundary conditions at each step."
   ]
  },
  {
   "cell_type": "code",
   "execution_count": null,
   "metadata": {},
   "outputs": [],
   "source": [
    "G = grad(f) #gradient de f\n",
    "G = G[:,:,0] + 1j*G[:,:,1]\n",
    "\n",
    "aff = around(linspace(1,niter,10))\n",
    "k = 0\n",
    "clf\n",
    "imageplot(f)\n",
    "for i in range(1,niter+1):\n",
    "    N = normal(gamma)\n",
    "    g = -EvalW(gamma)*normalC(gamma) + dotp(EvalG(gamma),N)*N\n",
    "    gamma = resample(gamma - dt*g) #échantillonage à chaque itération\n",
    "    gamma[0] = x0\n",
    "    gamma[-1] = x1 #contraintes aux frontières à ajouter à chaque itération\n",
    "    if i==aff[k]:\n",
    "        if (i==1 or i==niter):\n",
    "            cplot(gamma, 'b--')\n",
    "        else:\n",
    "            cplot(gamma, 'r')\n",
    "        k = k+1"
   ]
  },
  {
   "cell_type": "code",
   "execution_count": null,
   "metadata": {},
   "outputs": [],
   "source": []
  }
 ],
 "metadata": {
  "colab": {
   "collapsed_sections": [],
   "name": "machine_learning.ipynb",
   "provenance": [],
   "version": "0.3.2"
  },
  "kernelspec": {
   "display_name": "Python (myenv)",
   "language": "python",
   "name": "myenv"
  },
  "language_info": {
   "codemirror_mode": {
    "name": "ipython",
    "version": 3
   },
   "file_extension": ".py",
   "mimetype": "text/x-python",
   "name": "python",
   "nbconvert_exporter": "python",
   "pygments_lexer": "ipython3",
   "version": "3.7.2"
  }
 },
 "nbformat": 4,
 "nbformat_minor": 1
}
